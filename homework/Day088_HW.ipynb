{
 "cells": [
  {
   "cell_type": "markdown",
   "metadata": {},
   "source": [
    "## Work\n",
    "1. 請嘗試寫一個 callback 用來記錄各類別在訓練過程中，對驗證集的 True Positive(Tp) 與 True Negative(Tn)"
   ]
  },
  {
   "cell_type": "code",
   "execution_count": 12,
   "metadata": {},
   "outputs": [],
   "source": [
    "import os\n",
    "import keras\n",
    "\n",
    "# Disable GPU\n",
    "os.environ[\"CUDA_VISIBLE_DEVICES\"] =\"無\""
   ]
  },
  {
   "cell_type": "code",
   "execution_count": 13,
   "metadata": {},
   "outputs": [],
   "source": [
    "train, test = keras.datasets.cifar10.load_data()"
   ]
  },
  {
   "cell_type": "code",
   "execution_count": 14,
   "metadata": {},
   "outputs": [],
   "source": [
    "## 資料前處理\n",
    "def preproc_x(x, flatten=True):\n",
    "    x = x / 255.\n",
    "    if flatten:\n",
    "        x = x.reshape((len(x), -1))\n",
    "    return x\n",
    "\n",
    "def preproc_y(y, num_classes=10):\n",
    "    if y.shape[-1] == 1:\n",
    "        y = keras.utils.to_categorical(y, num_classes)\n",
    "    return y    "
   ]
  },
  {
   "cell_type": "code",
   "execution_count": 15,
   "metadata": {},
   "outputs": [],
   "source": [
    "x_train, y_train = train\n",
    "x_test, y_test = test\n",
    "\n",
    "# Preproc the inputs\n",
    "x_train = preproc_x(x_train)\n",
    "x_test = preproc_x(x_test)\n",
    "\n",
    "# Preprc the outputs\n",
    "y_train = preproc_y(y_train)\n",
    "y_test = preproc_y(y_test)"
   ]
  },
  {
   "cell_type": "code",
   "execution_count": 16,
   "metadata": {},
   "outputs": [],
   "source": [
    "from keras.layers import BatchNormalization\n",
    "\n",
    "\"\"\"\n",
    "建立神經網路，並加入 BN layer\n",
    "\"\"\"\n",
    "def build_mlp(input_shape, output_units=10, num_neurons=[512, 256, 128]):\n",
    "    input_layer = keras.layers.Input(input_shape)\n",
    "    \n",
    "    for i, n_units in enumerate(num_neurons):\n",
    "        if i == 0:\n",
    "            x = keras.layers.Dense(units=n_units, \n",
    "                                   activation=\"relu\", \n",
    "                                   name=\"hidden_layer\"+str(i+1))(input_layer)\n",
    "            x = BatchNormalization()(x)\n",
    "        else:\n",
    "            x = keras.layers.Dense(units=n_units, \n",
    "                                   activation=\"relu\", \n",
    "                                   name=\"hidden_layer\"+str(i+1))(x)\n",
    "            x = BatchNormalization()(x)\n",
    "    \n",
    "    out = keras.layers.Dense(units=output_units, activation=\"softmax\", name=\"output\")(x)\n",
    "    \n",
    "    model = keras.models.Model(inputs=[input_layer], outputs=[out])\n",
    "    return model"
   ]
  },
  {
   "cell_type": "code",
   "execution_count": 17,
   "metadata": {},
   "outputs": [],
   "source": [
    "## 超參數設定\n",
    "LEARNING_RATE = 1e-3\n",
    "EPOCHS = 25\n",
    "BATCH_SIZE = 1024\n",
    "MOMENTUM = 0.95"
   ]
  },
  {
   "cell_type": "code",
   "execution_count": 18,
   "metadata": {},
   "outputs": [],
   "source": [
    "# 載入 Callbacks\n",
    "from keras.callbacks import Callback\n",
    "\n",
    "# Record_fp_tp\n",
    "class Record_fp_tp(Callback):\n",
    "    \"\"\"Define a callback function to collect tp/tn, named Record_fp_tp.\n",
    "    \"\"\"\n",
    "    def on_train_begin(self, epoch, logs = {}):\n",
    "        logs = logs or {}\n",
    "        record_items = [\"val_auc\", \"val_f1sc\", \"val_fp\", \"val_fn\", \"val_tp\", \"val_tn\"]\n",
    "        for i in record_items:\n",
    "            if i not in self.params['metrics']:\n",
    "                self.params['metrics'].append(i)\n",
    "                \n",
    "    def on_epoch_end(self, epoch, logs = {}, thres=0.5):\n",
    "        logs = logs or {}\n",
    "        y_true = self.validation_data[1].argmax(axis = 1)\n",
    "        y_pred = self.model.predict(self.validation_data[0])\n",
    "        y_pred = (y_pred[:, 1] >= thres) * 1\n",
    "        \n",
    "        from sklearn.metrics import recall_score\n",
    "        # True positive rate, Recall, Sensitivity \n",
    "        logs['val_tp'] = recall_score(y_true, y_pred, average='macro')\n",
    "        \n",
    "rec_tptn = Record_fp_tp()"
   ]
  },
  {
   "cell_type": "code",
   "execution_count": 19,
   "metadata": {
    "scrolled": true
   },
   "outputs": [
    {
     "name": "stdout",
     "output_type": "stream",
     "text": [
      "_________________________________________________________________\n",
      "Layer (type)                 Output Shape              Param #   \n",
      "=================================================================\n",
      "input_2 (InputLayer)         (None, 3072)              0         \n",
      "_________________________________________________________________\n",
      "hidden_layer1 (Dense)        (None, 512)               1573376   \n",
      "_________________________________________________________________\n",
      "batch_normalization_4 (Batch (None, 512)               2048      \n",
      "_________________________________________________________________\n",
      "hidden_layer2 (Dense)        (None, 256)               131328    \n",
      "_________________________________________________________________\n",
      "batch_normalization_5 (Batch (None, 256)               1024      \n",
      "_________________________________________________________________\n",
      "hidden_layer3 (Dense)        (None, 128)               32896     \n",
      "_________________________________________________________________\n",
      "batch_normalization_6 (Batch (None, 128)               512       \n",
      "_________________________________________________________________\n",
      "output (Dense)               (None, 10)                1290      \n",
      "=================================================================\n",
      "Total params: 1,742,474\n",
      "Trainable params: 1,740,682\n",
      "Non-trainable params: 1,792\n",
      "_________________________________________________________________\n",
      "Train on 50000 samples, validate on 10000 samples\n",
      "Epoch 1/25\n",
      "50000/50000 [==============================] - 5s 108us/step - loss: 2.2106 - acc: 0.2730 - val_loss: 2.2256 - val_acc: 0.2948\n",
      "Epoch 2/25\n",
      "50000/50000 [==============================] - 5s 92us/step - loss: 1.7309 - acc: 0.3956 - val_loss: 1.8024 - val_acc: 0.3765\n",
      "Epoch 3/25\n",
      "50000/50000 [==============================] - 5s 92us/step - loss: 1.6158 - acc: 0.4341 - val_loss: 1.6862 - val_acc: 0.4052\n",
      "Epoch 4/25\n",
      "50000/50000 [==============================] - 5s 92us/step - loss: 1.5458 - acc: 0.4598 - val_loss: 1.6296 - val_acc: 0.4227\n",
      "Epoch 5/25\n",
      "50000/50000 [==============================] - 5s 92us/step - loss: 1.4916 - acc: 0.4779 - val_loss: 1.6090 - val_acc: 0.4281\n",
      "Epoch 6/25\n",
      "50000/50000 [==============================] - 5s 92us/step - loss: 1.4478 - acc: 0.4945 - val_loss: 1.5612 - val_acc: 0.4474\n",
      "Epoch 7/25\n",
      "50000/50000 [==============================] - 5s 92us/step - loss: 1.4078 - acc: 0.5092 - val_loss: 1.5470 - val_acc: 0.4518\n",
      "Epoch 8/25\n",
      "50000/50000 [==============================] - 5s 92us/step - loss: 1.3712 - acc: 0.5223 - val_loss: 1.5322 - val_acc: 0.4586\n",
      "Epoch 9/25\n",
      "50000/50000 [==============================] - 5s 92us/step - loss: 1.3396 - acc: 0.5315 - val_loss: 1.5092 - val_acc: 0.4679\n",
      "Epoch 10/25\n",
      "50000/50000 [==============================] - 5s 92us/step - loss: 1.3087 - acc: 0.5426 - val_loss: 1.5104 - val_acc: 0.4681\n",
      "Epoch 11/25\n",
      "50000/50000 [==============================] - 5s 91us/step - loss: 1.2803 - acc: 0.5551 - val_loss: 1.4947 - val_acc: 0.4729\n",
      "Epoch 12/25\n",
      "50000/50000 [==============================] - 5s 91us/step - loss: 1.2518 - acc: 0.5650 - val_loss: 1.4831 - val_acc: 0.4764\n",
      "Epoch 13/25\n",
      "50000/50000 [==============================] - 5s 91us/step - loss: 1.2257 - acc: 0.5761 - val_loss: 1.4789 - val_acc: 0.4777\n",
      "Epoch 14/25\n",
      "50000/50000 [==============================] - 5s 91us/step - loss: 1.2003 - acc: 0.5849 - val_loss: 1.4711 - val_acc: 0.4849\n",
      "Epoch 15/25\n",
      "50000/50000 [==============================] - 5s 93us/step - loss: 1.1764 - acc: 0.5932 - val_loss: 1.4584 - val_acc: 0.4859\n",
      "Epoch 16/25\n",
      "50000/50000 [==============================] - 5s 101us/step - loss: 1.1498 - acc: 0.6036 - val_loss: 1.4530 - val_acc: 0.4870\n",
      "Epoch 17/25\n",
      "50000/50000 [==============================] - 5s 93us/step - loss: 1.1286 - acc: 0.6118 - val_loss: 1.4642 - val_acc: 0.4844\n",
      "Epoch 18/25\n",
      "50000/50000 [==============================] - 5s 92us/step - loss: 1.1072 - acc: 0.6193 - val_loss: 1.4626 - val_acc: 0.4848\n",
      "Epoch 19/25\n",
      "50000/50000 [==============================] - 5s 92us/step - loss: 1.0841 - acc: 0.6287 - val_loss: 1.4541 - val_acc: 0.4887\n",
      "Epoch 20/25\n",
      "50000/50000 [==============================] - 5s 92us/step - loss: 1.0626 - acc: 0.6385 - val_loss: 1.4631 - val_acc: 0.4848\n",
      "Epoch 21/25\n",
      "50000/50000 [==============================] - 5s 92us/step - loss: 1.0410 - acc: 0.6442 - val_loss: 1.4580 - val_acc: 0.4948\n",
      "Epoch 22/25\n",
      "50000/50000 [==============================] - 5s 92us/step - loss: 1.0223 - acc: 0.6519 - val_loss: 1.4602 - val_acc: 0.4925\n",
      "Epoch 23/25\n",
      "50000/50000 [==============================] - 5s 92us/step - loss: 1.0006 - acc: 0.6602 - val_loss: 1.4649 - val_acc: 0.4881\n",
      "Epoch 24/25\n",
      "50000/50000 [==============================] - 5s 92us/step - loss: 0.9793 - acc: 0.6697 - val_loss: 1.4605 - val_acc: 0.4927\n",
      "Epoch 25/25\n",
      "50000/50000 [==============================] - 5s 92us/step - loss: 0.9577 - acc: 0.6768 - val_loss: 1.4768 - val_acc: 0.4875\n"
     ]
    }
   ],
   "source": [
    "model = build_mlp(input_shape=x_train.shape[1:])\n",
    "model.summary()\n",
    "optimizer = keras.optimizers.SGD(lr=LEARNING_RATE, nesterov=True, momentum=MOMENTUM)\n",
    "model.compile(loss=\"categorical_crossentropy\", metrics=[\"accuracy\"], optimizer=optimizer)\n",
    "\n",
    "\"\"\"Code Here\n",
    "將 callbacks 放入模型訓練流程中\n",
    "\"\"\"\n",
    "model.fit(x_train, y_train, \n",
    "          epochs=EPOCHS, \n",
    "          batch_size=BATCH_SIZE, \n",
    "          validation_data=(x_test, y_test), \n",
    "          shuffle=True,\n",
    "          callbacks=[rec_tptn])\n",
    "\n",
    "\n",
    "# Collect results\n",
    "train_loss = model.history.history[\"loss\"]\n",
    "valid_loss = model.history.history[\"val_loss\"]\n",
    "train_acc = model.history.history[\"acc\"]\n",
    "valid_acc = model.history.history[\"val_acc\"]\n",
    "\n",
    "\"\"\"Code Here\n",
    "將 tp/tn 從訓練完的模型中取出 # 驗証樣本中負例總數=acc+Tn=acc+(acc-tp)=2acc-tp\n",
    "\"\"\"\n",
    "valid_tp = model.history.history[\"val_tp\"]\n",
    "valid_tn = [2*acc - tp for (acc, tp) in zip(valid_acc, valid_tp)]\n"
   ]
  },
  {
   "cell_type": "code",
   "execution_count": 20,
   "metadata": {},
   "outputs": [
    {
     "data": {
      "image/png": "[encoded data removed]",
      "text/plain": [
       "<Figure size 432x288 with 1 Axes>"
      ]
     },
     "metadata": {
      "needs_background": "light"
     },
     "output_type": "display_data"
    },
    {
     "data": {
      "image/png": "[encoded data removed]",
      "text/plain": [
       "<Figure size 432x288 with 1 Axes>"
      ]
     },
     "metadata": {
      "needs_background": "light"
     },
     "output_type": "display_data"
    },
    {
     "data": {
      "image/png": "[encoded data removed]",
      "text/plain": [
       "<Figure size 432x288 with 1 Axes>"
      ]
     },
     "metadata": {
      "needs_background": "light"
     },
     "output_type": "display_data"
    }
   ],
   "source": [
    "import matplotlib.pyplot as plt\n",
    "%matplotlib inline\n",
    "\n",
    "plt.plot(range(len(train_loss)), train_loss, label=\"train loss\")\n",
    "plt.plot(range(len(valid_loss)), valid_loss, label=\"valid loss\")\n",
    "plt.legend()\n",
    "plt.title(\"Loss\")\n",
    "plt.show()\n",
    "\n",
    "plt.plot(range(len(train_acc)), train_acc, label=\"train accuracy\")\n",
    "plt.plot(range(len(valid_acc)), valid_acc, label=\"valid accuracy\")\n",
    "plt.legend()\n",
    "plt.title(\"Accuracy\")\n",
    "plt.show()\n",
    "\n",
    "plt.plot(range(len(valid_tp)), valid_tp, label=\"valid tp\", color=\"navy\")\n",
    "plt.plot(range(len(valid_tn)), valid_tn, label=\"valid tn\", color=\"red\")\n",
    "plt.legend()\n",
    "plt.title(\"True positives and True Negatives\")\n",
    "plt.show()\n"
   ]
  },
  {
   "cell_type": "code",
   "execution_count": null,
   "metadata": {},
   "outputs": [],
   "source": []
  },
  {
   "cell_type": "code",
   "execution_count": null,
   "metadata": {},
   "outputs": [],
   "source": []
  }
 ],
 "metadata": {
  "kernelspec": {
   "display_name": "Python 3",
   "language": "python",
   "name": "python3"
  },
  "language_info": {
   "codemirror_mode": {
    "name": "ipython",
    "version": 3
   },
   "file_extension": ".py",
   "mimetype": "text/x-python",
   "name": "python",
   "nbconvert_exporter": "python",
   "pygments_lexer": "ipython3",
   "version": "3.7.3"
  }
 },
 "nbformat": 4,
 "nbformat_minor": 2
}
