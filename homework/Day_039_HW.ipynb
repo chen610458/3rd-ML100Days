{
 "cells": [
  {
   "cell_type": "markdown",
   "metadata": {},
   "source": [
    "## [作業重點]\n",
    "清楚了解 L1, L2 的意義與差異為何，並了解 LASSO 與 Ridge 之間的差異與使用情境"
   ]
  },
  {
   "cell_type": "markdown",
   "metadata": {},
   "source": [
    "## 作業"
   ]
  },
  {
   "cell_type": "markdown",
   "metadata": {},
   "source": [
    "請閱讀相關文獻，並回答下列問題\n",
    "\n",
    "[脊回歸 (Ridge Regression)](https://blog.csdn.net/daunxx/article/details/51578787)\n",
    "[Linear, Ridge, Lasso Regression 本質區別](https://www.zhihu.com/question/38121173)\n",
    "\n",
    "1. LASSO 回歸可以被用來作為 Feature selection 的工具，請了解 LASSO 模型為什麼可用來作 Feature selection\n",
    "2. 當自變數 (X) 存在高度共線性時，Ridge Regression 可以處理這樣的問題嗎?\n"
   ]
  },
  {
   "cell_type": "markdown",
   "metadata": {},
   "source": [
    "#### Ans1:"
   ]
  },
  {
   "cell_type": "markdown",
   "metadata": {},
   "source": [
    "\n",
    "原因在用OLS(Ordinary Least Squares)為提高擬合精確度，\n",
    "    在例子\n",
    "[https://www.zhihu.com/question/38121173]\n",
    "    中如表內rss(residual sum-of-squares)值愈小表誤差小;但會把小係數(w)放大在多個正負項的疊加後，\n",
    "最終造成了所謂的過度擬合(overfitting)．\n",
    "而LASSO方法就是對多項式中過大的係數進行懲罰(penalty)。\n",
    "公式:![image](lasso.gif)\n",
    "要誤差(y-wx)小及係數的絕對值(|w|)不能太大.\n",
    "- 正面效果:\n",
    "    1.隨著懲罰值alpha的增加,係數越多會變成0,非Nan.\n",
    "    2.係數控制可在合理區間,以截距(intercept)項跟一階項為例,大致都在1到0.x之間.\n",
    "- 負面效果:\n",
    "    隨著懲罰值增加擬合越來越差,如最後rss到37會有擬合不足（underfitting）的問題.\n",
    "    \n",
    "    "
   ]
  },
  {
   "cell_type": "markdown",
   "metadata": {},
   "source": [
    "#### Ans2:"
   ]
  },
  {
   "cell_type": "markdown",
   "metadata": {},
   "source": [
    "高度共線性時在迴歸中有異常現象,如變數係數由正變負或反向關係，都與預期相反.而嶺迴歸則是對最小二乘法的改進,\n",
    "放棄最小二乘法的無偏性(unbiased estimator),允許迴歸係數有偏估計量(bias)存在，以改善共線性的方法.\n"
   ]
  }
 ],
 "metadata": {
  "kernelspec": {
   "display_name": "Python 3",
   "language": "python",
   "name": "python3"
  },
  "language_info": {
   "codemirror_mode": {
    "name": "ipython",
    "version": 3
   },
   "file_extension": ".py",
   "mimetype": "text/x-python",
   "name": "python",
   "nbconvert_exporter": "python",
   "pygments_lexer": "ipython3",
   "version": "3.7.3"
  }
 },
 "nbformat": 4,
 "nbformat_minor": 2
}
