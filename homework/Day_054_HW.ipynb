{
 "cells": [
  {
   "cell_type": "markdown",
   "metadata": {},
   "source": [
    "# 作業\n",
    "* 試著想想看, 非監督學習是否有可能使用評價函數 (Metric) 來鑑別好壞呢?  \n",
    "(Hint : 可以分為 \"有目標值\" 與 \"無目標值\" 兩個方向思考)"
   ]
  },
  {
   "cell_type": "markdown",
   "metadata": {
    "collapsed": true
   },
   "source": [
    "#### Ans:\n",
    "- 非監督學習可使用評價函數(Metric Learning)做鑑別.可由直接輸出一組feature vector，並由Metric Learning在該特徵中找最相近類別做匹配.\n",
    "- 有目標值:\n",
    " 先忽略目標值做非監督學習後微調,再使用原本監督的測量函數評估準確性.\n",
    "- 無目標值:\n",
    "非監督模型在無目標值或很少使用,利用資料本身的分佈資訊做模型評估。"
   ]
  }
 ],
 "metadata": {
  "kernelspec": {
   "display_name": "Python 3",
   "language": "python",
   "name": "python3"
  },
  "language_info": {
   "codemirror_mode": {
    "name": "ipython",
    "version": 3
   },
   "file_extension": ".py",
   "mimetype": "text/x-python",
   "name": "python",
   "nbconvert_exporter": "python",
   "pygments_lexer": "ipython3",
   "version": "3.7.3"
  }
 },
 "nbformat": 4,
 "nbformat_minor": 1
}
