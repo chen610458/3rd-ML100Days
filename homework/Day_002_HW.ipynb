{
 "cells": [
  {
   "cell_type": "markdown",
   "metadata": {},
   "source": [
    "# 請上 Kaggle, 在 Competitions 或 Dataset 中找一組競賽或資料並寫下：\n",
    "- 競賽組中題目:\"Humpback Whale Identification Challenge\"\n",
    "- https://www.kaggle.com/c/whale-categorization-playground\n"
   ]
  },
  {
   "cell_type": "markdown",
   "metadata": {},
   "source": [
    "# 1.你選的這組資料為何重要\n",
    "Ans:這是一個生態保謢問題,因幾世紀的捕殺座頭鯨(Humpback Whale)後,現再面臨海水暖化及捕鯨業追逮等因素會使數量減少;所以,要恢復鯨魚數量將會面臨是一個艱困的時期.\n"
   ]
  },
  {
   "cell_type": "markdown",
   "metadata": {},
   "source": [
    "# 2.資料從何而來 (tips: 譬如提供者是誰、以什麼方式蒐集)\n",
    "Ans:該資料是經由任何輸入者上HappyWhale(https://happywhale.com/home) 的照片演算平台,只要放入鯨魚照片就可判別其ID,同時該系統會加收集建檔.\n"
   ]
  },
  {
   "cell_type": "markdown",
   "metadata": {},
   "source": [
    "# 3.蒐集而來的資料型態為何\n",
    "Ans:由3000多隻座頭鯨的尾葉(Tail Fluke)照片及編ID所組成."
   ]
  },
  {
   "cell_type": "markdown",
   "metadata": {},
   "source": [
    "# 4.這組資料想解決的問題如何評估\n",
    "Ans:用現有3000多張的尾葉圖片及ID對測試資料(test set)做預測.\t發現目前參賽者多為採CNN方法,但差異點在對圖片提出不同的演算法.\n"
   ]
  }
 ],
 "metadata": {
  "anaconda-cloud": {},
  "kernelspec": {
   "display_name": "Python 3",
   "language": "python",
   "name": "python3"
  },
  "language_info": {
   "codemirror_mode": {
    "name": "ipython",
    "version": 3
   },
   "file_extension": ".py",
   "mimetype": "text/x-python",
   "name": "python",
   "nbconvert_exporter": "python",
   "pygments_lexer": "ipython3",
   "version": "3.7.3"
  }
 },
 "nbformat": 4,
 "nbformat_minor": 1
}
