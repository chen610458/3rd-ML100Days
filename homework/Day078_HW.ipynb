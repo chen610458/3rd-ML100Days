{
 "cells": [
  {
   "cell_type": "markdown",
   "metadata": {},
   "source": [
    "## Work\n",
    "1. 請嘗試將 preproc_x 替換成以每筆資料的 min/max 進行標準化至 -1 ~ 1 間，再進行訓練\n",
    "2. 請嘗試將 mlp 疊更深 (e.g 5~10 層)，進行訓練後觀察 learning curve 的走勢\n",
    "3. (optional) 請改用 GPU 進行訓練 (如果你有 GPU 的話)，比較使用 CPU 與 GPU 的訓練速度"
   ]
  },
  {
   "cell_type": "code",
   "execution_count": 1,
   "metadata": {},
   "outputs": [
    {
     "data": {
      "text/plain": [
       "'\\nYour code here (optional)\\n確認硬體資源\\n'"
      ]
     },
     "execution_count": 1,
     "metadata": {},
     "output_type": "execute_result"
    }
   ],
   "source": [
    "## \n",
    "\"\"\"\n",
    "Your code here (optional)\n",
    "確認硬體資源\n",
    "\"\"\"\n"
   ]
  },
  {
   "cell_type": "code",
   "execution_count": 96,
   "metadata": {},
   "outputs": [],
   "source": [
    "import os\n",
    "import keras\n",
    "import numpy as np\n",
    "\n",
    "# 請嘗試設定 GPU：os.environ\n",
    "\n",
    "# 本範例不需使用 GPU, 將 GPU 設定為 \"無\"\n",
    "os.environ[\"CUDA_VISIBLE_DEVICES\"] = \"無\""
   ]
  },
  {
   "cell_type": "code",
   "execution_count": 97,
   "metadata": {},
   "outputs": [],
   "source": [
    "train, test = keras.datasets.cifar10.load_data()"
   ]
  },
  {
   "cell_type": "code",
   "execution_count": 126,
   "metadata": {},
   "outputs": [],
   "source": [
    "## 資料前處理\n",
    "\"\"\"\n",
    "Your code here\n",
    "\"\"\"\n",
    "\n",
    "def preproc_x(x, flatten=True):\n",
    "    x = (x - x.min(axis=0)) / (x.max(axis=0) - x.min(axis=0)) * 2 - 1    \n",
    "    if flatten:\n",
    "        x = x.reshape((len(x), -1))\n",
    "    return x\n",
    "\n",
    "def preproc_y(y, num_classes=10):\n",
    "    if y.shape[-1] == 1:\n",
    "        y = keras.utils.to_categorical(y, num_classes)\n",
    "    return y    "
   ]
  },
  {
   "cell_type": "code",
   "execution_count": 111,
   "metadata": {},
   "outputs": [
    {
     "name": "stdout",
     "output_type": "stream",
     "text": [
      "[[-0.5372549  -0.51372549 -0.50588235 ... -0.03529412 -0.27843137\n",
      "  -0.43529412]\n",
      " [ 0.20784314  0.38823529  0.46666667 ...  0.12156863  0.04313725\n",
      "   0.12941176]\n",
      " [ 1.          1.          1.         ... -0.37254902 -0.3254902\n",
      "  -0.34117647]\n",
      " ...\n",
      " [-0.7254902   0.39607843  0.84313725 ... -0.90588235 -0.75686275\n",
      "  -0.60784314]\n",
      " [ 0.48235294  0.65490196  0.88235294 ...  0.52941176  0.49019608\n",
      "   0.34117647]\n",
      " [ 0.79607843  0.79607843  0.8745098  ...  0.27843137  0.27843137\n",
      "   0.2627451 ]]\n"
     ]
    }
   ],
   "source": [
    "x_train, y_train = train\n",
    "x_test, y_test = test\n",
    "\n",
    "# Preproc the inputs\n",
    "x_train = preproc_x(x_train)\n",
    "print(x_train )\n",
    "x_test = preproc_x(x_test)\n",
    "\n",
    "# Preprc the outputs\n",
    "y_train = preproc_y(y_train)\n",
    "y_test = preproc_y(y_test)"
   ]
  },
  {
   "cell_type": "code",
   "execution_count": 112,
   "metadata": {},
   "outputs": [],
   "source": [
    "\"\"\"Code Here\n",
    "建立你的神經網路\n",
    "\"\"\"\n",
    "# def build_mlp():\n",
    "#     pass\n",
    "\n",
    "# model.summary()\n",
    "def build_mlp(input_shape, output_units=10, num_neurons=[512, 256, 128,64,32]):\n",
    "    input_layer = keras.layers.Input(input_shape)\n",
    "    \n",
    "    for i, n_units in enumerate(num_neurons):\n",
    "        if i == 0:\n",
    "            x = keras.layers.Dense(units=n_units, activation=\"relu\", name=\"hidden_layer\"+str(i+1))(input_layer)\n",
    "        else:\n",
    "            x = keras.layers.Dense(units=n_units, activation=\"relu\", name=\"hidden_layer\"+str(i+1))(x)\n",
    "    \n",
    "    out = keras.layers.Dense(units=output_units, activation=\"softmax\", name=\"output\")(x)\n",
    "    \n",
    "    model = keras.models.Model(inputs=[input_layer], outputs=[out])\n",
    "    return model\n"
   ]
  },
  {
   "cell_type": "code",
   "execution_count": 121,
   "metadata": {},
   "outputs": [
    {
     "name": "stdout",
     "output_type": "stream",
     "text": [
      "_________________________________________________________________\n",
      "Layer (type)                 Output Shape              Param #   \n",
      "=================================================================\n",
      "input_1 (InputLayer)         (None, 3072)              0         \n",
      "_________________________________________________________________\n",
      "hidden_layer1 (Dense)        (None, 512)               1573376   \n",
      "_________________________________________________________________\n",
      "hidden_layer2 (Dense)        (None, 256)               131328    \n",
      "_________________________________________________________________\n",
      "hidden_layer3 (Dense)        (None, 128)               32896     \n",
      "_________________________________________________________________\n",
      "hidden_layer4 (Dense)        (None, 64)                8256      \n",
      "_________________________________________________________________\n",
      "hidden_layer5 (Dense)        (None, 32)                2080      \n",
      "_________________________________________________________________\n",
      "output (Dense)               (None, 10)                330       \n",
      "=================================================================\n",
      "Total params: 1,748,266\n",
      "Trainable params: 1,748,266\n",
      "Non-trainable params: 0\n",
      "_________________________________________________________________\n"
     ]
    }
   ],
   "source": [
    "model = build_mlp(input_shape=x_train.shape[1:])\n",
    "model.summary()"
   ]
  },
  {
   "cell_type": "code",
   "execution_count": 122,
   "metadata": {},
   "outputs": [],
   "source": [
    "## 超參數設定\n",
    "LEARNING_RATE = 0.001\n",
    "# EPOCHS = 100\n",
    "EPOCHS = 20\n",
    "BATCH_SIZE = 256"
   ]
  },
  {
   "cell_type": "code",
   "execution_count": 124,
   "metadata": {},
   "outputs": [],
   "source": [
    "optimizer = keras.optimizers.Adam(lr=LEARNING_RATE)\n",
    "model.compile(loss=\"categorical_crossentropy\", metrics=[\"accuracy\"], optimizer=optimizer)\n"
   ]
  },
  {
   "cell_type": "code",
   "execution_count": 125,
   "metadata": {},
   "outputs": [
    {
     "name": "stdout",
     "output_type": "stream",
     "text": [
      "WARNING:tensorflow:From C:\\Users\\chen6\\Anaconda3\\lib\\site-packages\\tensorflow\\python\\ops\\math_ops.py:3066: to_int32 (from tensorflow.python.ops.math_ops) is deprecated and will be removed in a future version.\n",
      "Instructions for updating:\n",
      "Use tf.cast instead.\n",
      "Train on 50000 samples, validate on 10000 samples\n",
      "Epoch 1/20\n",
      "50000/50000 [==============================] - 12s 247us/step - loss: 1.7298 - acc: 0.3851 - val_loss: 1.5593 - val_acc: 0.4506\n",
      "Epoch 2/20\n",
      "50000/50000 [==============================] - 11s 226us/step - loss: 1.4876 - acc: 0.4761 - val_loss: 1.4705 - val_acc: 0.4806\n",
      "Epoch 3/20\n",
      "50000/50000 [==============================] - 11s 226us/step - loss: 1.3703 - acc: 0.5197 - val_loss: 1.4069 - val_acc: 0.5106\n",
      "Epoch 4/20\n",
      "50000/50000 [==============================] - 11s 229us/step - loss: 1.2725 - acc: 0.5546 - val_loss: 1.3894 - val_acc: 0.5185\n",
      "Epoch 5/20\n",
      "50000/50000 [==============================] - 11s 227us/step - loss: 1.1885 - acc: 0.5842 - val_loss: 1.3528 - val_acc: 0.5282\n",
      "Epoch 6/20\n",
      "50000/50000 [==============================] - 11s 228us/step - loss: 1.1108 - acc: 0.6108 - val_loss: 1.3586 - val_acc: 0.5291\n",
      "Epoch 7/20\n",
      "50000/50000 [==============================] - 11s 229us/step - loss: 1.0384 - acc: 0.6333 - val_loss: 1.3561 - val_acc: 0.5371\n",
      "Epoch 8/20\n",
      "50000/50000 [==============================] - 11s 226us/step - loss: 0.9605 - acc: 0.6635 - val_loss: 1.3831 - val_acc: 0.5365\n",
      "Epoch 9/20\n",
      "50000/50000 [==============================] - 11s 227us/step - loss: 0.8939 - acc: 0.6866 - val_loss: 1.4517 - val_acc: 0.5249\n",
      "Epoch 10/20\n",
      "50000/50000 [==============================] - 11s 228us/step - loss: 0.8321 - acc: 0.7068 - val_loss: 1.4816 - val_acc: 0.5317\n",
      "Epoch 11/20\n",
      "50000/50000 [==============================] - 11s 226us/step - loss: 0.7627 - acc: 0.7325 - val_loss: 1.5120 - val_acc: 0.5418\n",
      "Epoch 12/20\n",
      "50000/50000 [==============================] - 11s 225us/step - loss: 0.6970 - acc: 0.7541 - val_loss: 1.6245 - val_acc: 0.5312\n",
      "Epoch 13/20\n",
      "50000/50000 [==============================] - 11s 224us/step - loss: 0.6377 - acc: 0.7758 - val_loss: 1.6674 - val_acc: 0.5309\n",
      "Epoch 14/20\n",
      "50000/50000 [==============================] - 11s 224us/step - loss: 0.5935 - acc: 0.7892 - val_loss: 1.7078 - val_acc: 0.5283\n",
      "Epoch 15/20\n",
      "50000/50000 [==============================] - 11s 224us/step - loss: 0.5348 - acc: 0.8124 - val_loss: 1.8204 - val_acc: 0.5345\n",
      "Epoch 16/20\n",
      "50000/50000 [==============================] - 11s 226us/step - loss: 0.4861 - acc: 0.8298 - val_loss: 1.8834 - val_acc: 0.5322\n",
      "Epoch 17/20\n",
      "50000/50000 [==============================] - 11s 226us/step - loss: 0.4560 - acc: 0.8411 - val_loss: 1.9984 - val_acc: 0.5318\n",
      "Epoch 18/20\n",
      "50000/50000 [==============================] - 11s 227us/step - loss: 0.4091 - acc: 0.8574 - val_loss: 2.0567 - val_acc: 0.5224\n",
      "Epoch 19/20\n",
      "50000/50000 [==============================] - 11s 224us/step - loss: 0.3840 - acc: 0.8663 - val_loss: 2.1341 - val_acc: 0.5271\n",
      "Epoch 20/20\n",
      "50000/50000 [==============================] - 11s 227us/step - loss: 0.3532 - acc: 0.8774 - val_loss: 2.2928 - val_acc: 0.5279\n"
     ]
    },
    {
     "data": {
      "text/plain": [
       "<keras.callbacks.History at 0x1f181148240>"
      ]
     },
     "execution_count": 125,
     "metadata": {},
     "output_type": "execute_result"
    }
   ],
   "source": [
    "model.fit(x_train, y_train, \n",
    "          epochs=EPOCHS, \n",
    "          batch_size=BATCH_SIZE, \n",
    "          validation_data=(x_test, y_test), \n",
    "          shuffle=True)"
   ]
  },
  {
   "cell_type": "code",
   "execution_count": 127,
   "metadata": {},
   "outputs": [
    {
     "data": {
      "image/png": "[encoded data removed]",
      "text/plain": [
       "<Figure size 432x288 with 1 Axes>"
      ]
     },
     "metadata": {
      "needs_background": "light"
     },
     "output_type": "display_data"
    },
    {
     "data": {
      "image/png": "[encoded data removed]",
      "text/plain": [
       "<Figure size 432x288 with 1 Axes>"
      ]
     },
     "metadata": {
      "needs_background": "light"
     },
     "output_type": "display_data"
    }
   ],
   "source": [
    "import matplotlib.pyplot as plt\n",
    "\n",
    "\n",
    "train_loss = model.history.history[\"loss\"]\n",
    "valid_loss = model.history.history[\"val_loss\"]\n",
    "\n",
    "train_acc = model.history.history[\"acc\"]\n",
    "valid_acc = model.history.history[\"val_acc\"]\n",
    "\n",
    "plt.plot(range(len(train_loss)), train_loss, label=\"train loss\")\n",
    "plt.plot(range(len(valid_loss)), valid_loss, label=\"valid loss\")\n",
    "plt.legend()\n",
    "plt.title(\"Loss\")\n",
    "plt.show()\n",
    "\n",
    "plt.plot(range(len(train_acc)), train_acc, label=\"train accuracy\")\n",
    "plt.plot(range(len(valid_acc)), valid_acc, label=\"valid accuracy\")\n",
    "plt.legend()\n",
    "plt.title(\"Accuracy\")\n",
    "plt.show()"
   ]
  },
  {
   "cell_type": "code",
   "execution_count": null,
   "metadata": {},
   "outputs": [],
   "source": []
  }
 ],
 "metadata": {
  "kernelspec": {
   "display_name": "Python 3",
   "language": "python",
   "name": "python3"
  },
  "language_info": {
   "codemirror_mode": {
    "name": "ipython",
    "version": 3
   },
   "file_extension": ".py",
   "mimetype": "text/x-python",
   "name": "python",
   "nbconvert_exporter": "python",
   "pygments_lexer": "ipython3",
   "version": "3.7.3"
  }
 },
 "nbformat": 4,
 "nbformat_minor": 2
}
