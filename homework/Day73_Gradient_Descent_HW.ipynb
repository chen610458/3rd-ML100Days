{
 "cells": [
  {
   "cell_type": "markdown",
   "metadata": {},
   "source": [
    "# 作業重點\n",
    "\n",
    "使用function y=(x+5)² 來練習學習率( leanrning rate ) 調整所造成的影響"
   ]
  },
  {
   "cell_type": "markdown",
   "metadata": {},
   "source": [
    "# 作業目標:\n",
    "    請嘗試使用不同的組合驗證 learning rate 對所需 iteration 的影響\n",
    "    lr = [0.1, 0.0001]\n",
    "    主要驗證 Lr 對於grandient 收斂的速度\n",
    "    "
   ]
  },
  {
   "cell_type": "code",
   "execution_count": 1,
   "metadata": {},
   "outputs": [],
   "source": [
    "import numpy as np\n",
    "import matplotlib.pyplot as plt\n",
    "%matplotlib inline\n"
   ]
  },
  {
   "cell_type": "code",
   "execution_count": 5,
   "metadata": {},
   "outputs": [],
   "source": [
    "def func(x):\n",
    "    return np.square(x+5)\n",
    "\n",
    "def dfunc(x):\n",
    "    return 2*(x+5)\n",
    "\n",
    "def GD(w_init,df,epochs,lr):\n",
    "    xs=np.zeros(epochs+1)\n",
    "    x=w_init\n",
    "    xs[0]=x\n",
    "    \n",
    "    for i in range(epochs):\n",
    "        dx=df(x)\n",
    "        v=-dx*lr\n",
    "        x +=v\n",
    "        xs[i+1]=x\n",
    "    return xs\n"
   ]
  },
  {
   "cell_type": "code",
   "execution_count": 7,
   "metadata": {},
   "outputs": [
    {
     "data": {
      "image/png": "[encoded data removed]",
      "text/plain": [
       "<Figure size 432x288 with 2 Axes>"
      ]
     },
     "metadata": {
      "needs_background": "light"
     },
     "output_type": "display_data"
    }
   ],
   "source": [
    "line_x=np.linspace(-5,5,100)\n",
    "line_y=func(line_x)\n",
    "\n",
    "w_init=3\n",
    "epochs=10\n",
    "x=w_init\n",
    "\n",
    "lr=[0.1,0.0001]\n",
    "\n",
    "color=['r','g']\n",
    "size=np.ones(epochs+1)*10\n",
    "size[-1]=70\n",
    "\n",
    "for i in range(len(lr)):\n",
    "    x=GD(w_init,dfunc,epochs,lr=lr[i])\n",
    "    plt.subplot(1,3,i+1)\n",
    "    plt.plot(line_x,line_y,c='b')\n",
    "    plt.plot(x,func(x),c=color[i],label='lr={}'.format(lr[i]))\n",
    "    plt.scatter(x,func(x),c=color[i])\n",
    "    plt.legend()\n",
    "plt.show()    "
   ]
  },
  {
   "cell_type": "code",
   "execution_count": null,
   "metadata": {},
   "outputs": [],
   "source": []
  }
 ],
 "metadata": {
  "kernelspec": {
   "display_name": "Python 3",
   "language": "python",
   "name": "python3"
  },
  "language_info": {
   "codemirror_mode": {
    "name": "ipython",
    "version": 3
   },
   "file_extension": ".py",
   "mimetype": "text/x-python",
   "name": "python",
   "nbconvert_exporter": "python",
   "pygments_lexer": "ipython3",
   "version": "3.7.3"
  }
 },
 "nbformat": 4,
 "nbformat_minor": 2
}
