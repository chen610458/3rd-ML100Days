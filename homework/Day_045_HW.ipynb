{
 "cells": [
  {
   "cell_type": "markdown",
   "metadata": {},
   "source": [
    "閱讀'完整的 Ensemble 概念 by 李宏毅教授',內容有大致如下:<br>\n",
    "Framework of Enemble<br>\n",
    "Bagging<br>\n",
    "Decision Tree<br>\n",
    "Random Forest<br>\n",
    "Boosting<br>\n",
    "Algorithm for AdaBoost<br>\n",
    "Gradient Boosting<br>\n",
    "Stacking<br>"
   ]
  }
 ],
 "metadata": {
  "kernelspec": {
   "display_name": "Python 3",
   "language": "python",
   "name": "python3"
  },
  "language_info": {
   "codemirror_mode": {
    "name": "ipython",
    "version": 3
   },
   "file_extension": ".py",
   "mimetype": "text/x-python",
   "name": "python",
   "nbconvert_exporter": "python",
   "pygments_lexer": "ipython3",
   "version": "3.7.3"
  }
 },
 "nbformat": 4,
 "nbformat_minor": 2
}
