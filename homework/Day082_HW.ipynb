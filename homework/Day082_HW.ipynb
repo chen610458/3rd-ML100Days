{
 "cells": [
  {
   "cell_type": "markdown",
   "metadata": {},
   "source": [
    "## Work\n",
    "1. 請比較使用不同層數以及不同 Dropout rate 對訓練的效果\n",
    "2. 將 optimizer 改成使用 Adam 並加上適當的 dropout rate 檢視結果"
   ]
  },
  {
   "cell_type": "code",
   "execution_count": 94,
   "metadata": {},
   "outputs": [],
   "source": [
    "import os\n",
    "import keras\n",
    "import itertools\n",
    "# Disable GPU\n",
    "os.environ[\"CUDA_VISIBLE_DEVICES\"] = \"無\""
   ]
  },
  {
   "cell_type": "code",
   "execution_count": 95,
   "metadata": {},
   "outputs": [],
   "source": [
    "train, test = keras.datasets.cifar10.load_data()"
   ]
  },
  {
   "cell_type": "code",
   "execution_count": 96,
   "metadata": {},
   "outputs": [],
   "source": [
    "## 資料前處理\n",
    "def preproc_x(x, flatten=True):\n",
    "    x = x / 255.\n",
    "    if flatten:\n",
    "        x = x.reshape((len(x), -1))\n",
    "    return x\n",
    "\n",
    "def preproc_y(y, num_classes=10):\n",
    "    if y.shape[-1] == 1:\n",
    "        y = keras.utils.to_categorical(y, num_classes)\n",
    "    return y    "
   ]
  },
  {
   "cell_type": "code",
   "execution_count": 97,
   "metadata": {},
   "outputs": [],
   "source": [
    "x_train, y_train = train\n",
    "x_test, y_test = test\n",
    "\n",
    "# Preproc the inputs\n",
    "x_train = preproc_x(x_train)\n",
    "x_test = preproc_x(x_test)\n",
    "\n",
    "# Preprc the outputs\n",
    "y_train = preproc_y(y_train)\n",
    "y_test = preproc_y(y_test)"
   ]
  },
  {
   "cell_type": "code",
   "execution_count": 98,
   "metadata": {},
   "outputs": [],
   "source": [
    "from keras.layers import Dropout\n",
    "\n",
    "\"\"\"\n",
    "建立神經網路，並加入 dropout layer\n",
    "\"\"\"\n",
    "def build_mlp(input_shape, output_units=10, num_neurons=[512, 256, 128], drpratio=0.2):\n",
    "    input_layer = keras.layers.Input(input_shape)\n",
    "    print(drpratio)\n",
    "    for i, n_units in enumerate(num_neurons):\n",
    "        if i == 0:\n",
    "            x = keras.layers.Dense(units=n_units, \n",
    "                                   activation=\"relu\", \n",
    "                                   name=\"hidden_layer\"+str(i+1))(input_layer)\n",
    "            x = Dropout(drpratio)(x)\n",
    "        else:\n",
    "            x = keras.layers.Dense(units=n_units, \n",
    "                                   activation=\"relu\", \n",
    "                                   name=\"hidden_layer\"+str(i+1))(x)\n",
    "            x = Dropout(drpratio)(x)\n",
    "    \n",
    "    out = keras.layers.Dense(units=output_units, activation=\"softmax\", name=\"output\")(x)\n",
    "    \n",
    "    model = keras.models.Model(inputs=[input_layer], outputs=[out])\n",
    "    return model"
   ]
  },
  {
   "cell_type": "code",
   "execution_count": 99,
   "metadata": {},
   "outputs": [],
   "source": [
    "## 超參數設定\n",
    "LEARNING_RATE = 1e-3\n",
    "EPOCHS = 20\n",
    "BATCH_SIZE = 256\n",
    "MOMENTUM = 0.95\n",
    "Dropout_EXP = 0.1"
   ]
  },
  {
   "cell_type": "code",
   "execution_count": 100,
   "metadata": {
    "scrolled": true
   },
   "outputs": [
    {
     "name": "stdout",
     "output_type": "stream",
     "text": [
      "0.1\n",
      "_________________________________________________________________\n",
      "Layer (type)                 Output Shape              Param #   \n",
      "=================================================================\n",
      "input_31 (InputLayer)        (None, 3072)              0         \n",
      "_________________________________________________________________\n",
      "hidden_layer1 (Dense)        (None, 512)               1573376   \n",
      "_________________________________________________________________\n",
      "dropout_87 (Dropout)         (None, 512)               0         \n",
      "_________________________________________________________________\n",
      "hidden_layer2 (Dense)        (None, 256)               131328    \n",
      "_________________________________________________________________\n",
      "dropout_88 (Dropout)         (None, 256)               0         \n",
      "_________________________________________________________________\n",
      "hidden_layer3 (Dense)        (None, 128)               32896     \n",
      "_________________________________________________________________\n",
      "dropout_89 (Dropout)         (None, 128)               0         \n",
      "_________________________________________________________________\n",
      "output (Dense)               (None, 10)                1290      \n",
      "=================================================================\n",
      "Total params: 1,738,890\n",
      "Trainable params: 1,738,890\n",
      "Non-trainable params: 0\n",
      "_________________________________________________________________\n",
      "Train on 50000 samples, validate on 10000 samples\n",
      "Epoch 1/20\n",
      "50000/50000 [==============================] - 9s 181us/step - loss: 1.9728 - acc: 0.2781 - val_loss: 1.7648 - val_acc: 0.3716\n",
      "Epoch 2/20\n",
      "50000/50000 [==============================] - 7s 150us/step - loss: 1.7724 - acc: 0.3611 - val_loss: 1.6879 - val_acc: 0.3895\n",
      "Epoch 3/20\n",
      "50000/50000 [==============================] - 8s 151us/step - loss: 1.6907 - acc: 0.3956 - val_loss: 1.6041 - val_acc: 0.4238\n",
      "Epoch 4/20\n",
      "50000/50000 [==============================] - 8s 151us/step - loss: 1.6347 - acc: 0.4147 - val_loss: 1.5672 - val_acc: 0.4505\n",
      "Epoch 5/20\n",
      "50000/50000 [==============================] - 8s 164us/step - loss: 1.6081 - acc: 0.4249 - val_loss: 1.5735 - val_acc: 0.4398\n",
      "Epoch 6/20\n",
      "50000/50000 [==============================] - 8s 157us/step - loss: 1.5727 - acc: 0.4395 - val_loss: 1.5019 - val_acc: 0.4674\n",
      "Epoch 7/20\n",
      "50000/50000 [==============================] - 8s 159us/step - loss: 1.5348 - acc: 0.4527 - val_loss: 1.4651 - val_acc: 0.4833\n",
      "Epoch 8/20\n",
      "50000/50000 [==============================] - 7s 147us/step - loss: 1.5219 - acc: 0.4573 - val_loss: 1.4670 - val_acc: 0.4774\n",
      "Epoch 9/20\n",
      "50000/50000 [==============================] - 7s 146us/step - loss: 1.4952 - acc: 0.4671 - val_loss: 1.4562 - val_acc: 0.4850\n",
      "Epoch 10/20\n",
      "50000/50000 [==============================] - 7s 147us/step - loss: 1.4788 - acc: 0.4702 - val_loss: 1.4469 - val_acc: 0.4842\n",
      "Epoch 11/20\n",
      "50000/50000 [==============================] - 7s 147us/step - loss: 1.4548 - acc: 0.4790 - val_loss: 1.4596 - val_acc: 0.4778\n",
      "Epoch 12/20\n",
      "50000/50000 [==============================] - 7s 146us/step - loss: 1.4384 - acc: 0.4881 - val_loss: 1.4541 - val_acc: 0.4873\n",
      "Epoch 13/20\n",
      "50000/50000 [==============================] - 7s 146us/step - loss: 1.4254 - acc: 0.4901 - val_loss: 1.4027 - val_acc: 0.5014\n",
      "Epoch 14/20\n",
      "50000/50000 [==============================] - 7s 147us/step - loss: 1.4149 - acc: 0.4955 - val_loss: 1.4134 - val_acc: 0.4993\n",
      "Epoch 15/20\n",
      "50000/50000 [==============================] - 7s 146us/step - loss: 1.4052 - acc: 0.4968 - val_loss: 1.4176 - val_acc: 0.4941\n",
      "Epoch 16/20\n",
      "50000/50000 [==============================] - 7s 146us/step - loss: 1.3883 - acc: 0.5043 - val_loss: 1.4016 - val_acc: 0.5053\n",
      "Epoch 17/20\n",
      "50000/50000 [==============================] - 7s 147us/step - loss: 1.3738 - acc: 0.5086 - val_loss: 1.4004 - val_acc: 0.4989\n",
      "Epoch 18/20\n",
      "50000/50000 [==============================] - 7s 145us/step - loss: 1.3783 - acc: 0.5063 - val_loss: 1.3999 - val_acc: 0.5067\n",
      "Epoch 19/20\n",
      "50000/50000 [==============================] - 7s 147us/step - loss: 1.3557 - acc: 0.5134 - val_loss: 1.3772 - val_acc: 0.5190\n",
      "Epoch 20/20\n",
      "50000/50000 [==============================] - 7s 146us/step - loss: 1.3386 - acc: 0.5209 - val_loss: 1.3831 - val_acc: 0.5084\n"
     ]
    }
   ],
   "source": [
    "# results = {}\n",
    "\"\"\"Code Here\n",
    "撰寫你的訓練流程並將結果用 dictionary 紀錄\n",
    "\"\"\"\n",
    "\n",
    "\n",
    "model = build_mlp(input_shape=x_train.shape[1:], drpratio=Dropout_EXP)\n",
    "model.summary()\n",
    "optimizer = keras.optimizers.Adam(lr=LEARNING_RATE)\n",
    "model.compile(loss=\"categorical_crossentropy\", metrics=[\"accuracy\"], optimizer=optimizer)\n",
    "\n",
    "model.fit(x_train, y_train, \n",
    "          epochs=EPOCHS, \n",
    "          batch_size=BATCH_SIZE, \n",
    "          validation_data=(x_test, y_test), \n",
    "          shuffle=True)\n",
    "\n",
    "# Collect results\n",
    "\n",
    "train_loss = model.history.history[\"loss\"]\n",
    "valid_loss = model.history.history[\"val_loss\"]\n",
    "train_acc = model.history.history[\"acc\"]\n",
    "valid_acc = model.history.history[\"val_acc\"]\n"
   ]
  },
  {
   "cell_type": "code",
   "execution_count": 106,
   "metadata": {},
   "outputs": [
    {
     "data": {
      "image/png": "[encoded data removed]",
      "text/plain": [
       "<Figure size 432x288 with 1 Axes>"
      ]
     },
     "metadata": {
      "needs_background": "light"
     },
     "output_type": "display_data"
    },
    {
     "data": {
      "image/png": "[encoded data removed]",
      "text/plain": [
       "<Figure size 432x288 with 1 Axes>"
      ]
     },
     "metadata": {
      "needs_background": "light"
     },
     "output_type": "display_data"
    }
   ],
   "source": [
    "import matplotlib.pyplot as plt\n",
    "%matplotlib inline\n",
    "# print(drp_ratio)\n",
    "# if drp_ratio ==0.1:\n",
    "plt.plot(range(len(train_loss)), train_loss, label=\"train loss\")\n",
    "plt.plot(range(len(valid_loss)), valid_loss, label=\"valid loss\")\n",
    "plt.legend()\n",
    "plt.title(\"Loss\")\n",
    "plt.show()\n",
    "\n",
    "plt1.plot(range(len(train_acc)), train_acc, label=\"train accuracy\")\n",
    "plt1.plot(range(len(valid_acc)), valid_acc, label=\"valid accuracy\")\n",
    "plt1.legend()\n",
    "plt1.title(\"Accuracy\")\n",
    "plt1.show()"
   ]
  },
  {
   "cell_type": "code",
   "execution_count": 111,
   "metadata": {},
   "outputs": [],
   "source": [
    "def build_mlp2(input_shape, output_units=10, num_neurons=[512, 256, 128], drpratio=0.2):\n",
    "    input_layer = keras.layers.Input(input_shape)\n",
    "    print(drpratio)\n",
    "    for i, n_units in enumerate(num_neurons):\n",
    "        if i == 0:\n",
    "            x = keras.layers.Dense(units=n_units, \n",
    "                                   activation=\"relu\", \n",
    "                                   name=\"hidden_layer\"+str(i+1))(input_layer)\n",
    "            x = Dropout(drpratio)(x)\n",
    "        else:\n",
    "            x = keras.layers.Dense(units=n_units, \n",
    "                                   activation=\"relu\", \n",
    "                                   name=\"hidden_layer\"+str(i+1))(x)\n",
    "            x = Dropout(drpratio)(x)\n",
    "    \n",
    "    out = keras.layers.Dense(units=output_units, activation=\"softmax\", name=\"output\")(x)\n",
    "    \n",
    "    model = keras.models.Model(inputs=[input_layer], outputs=[out])\n",
    "    return model"
   ]
  },
  {
   "cell_type": "code",
   "execution_count": 112,
   "metadata": {},
   "outputs": [],
   "source": [
    "LEARNING_RATE = 1e-3\n",
    "EPOCHS = 20\n",
    "BATCH_SIZE = 256\n",
    "MOMENTUM = 0.95\n",
    "Dropout_EXP2 = 0.25"
   ]
  },
  {
   "cell_type": "code",
   "execution_count": 113,
   "metadata": {},
   "outputs": [
    {
     "name": "stdout",
     "output_type": "stream",
     "text": [
      "0.25\n",
      "_________________________________________________________________\n",
      "Layer (type)                 Output Shape              Param #   \n",
      "=================================================================\n",
      "input_35 (InputLayer)        (None, 3072)              0         \n",
      "_________________________________________________________________\n",
      "hidden_layer1 (Dense)        (None, 512)               1573376   \n",
      "_________________________________________________________________\n",
      "dropout_99 (Dropout)         (None, 512)               0         \n",
      "_________________________________________________________________\n",
      "hidden_layer2 (Dense)        (None, 256)               131328    \n",
      "_________________________________________________________________\n",
      "dropout_100 (Dropout)        (None, 256)               0         \n",
      "_________________________________________________________________\n",
      "hidden_layer3 (Dense)        (None, 128)               32896     \n",
      "_________________________________________________________________\n",
      "dropout_101 (Dropout)        (None, 128)               0         \n",
      "_________________________________________________________________\n",
      "output (Dense)               (None, 10)                1290      \n",
      "=================================================================\n",
      "Total params: 1,738,890\n",
      "Trainable params: 1,738,890\n",
      "Non-trainable params: 0\n",
      "_________________________________________________________________\n",
      "Train on 50000 samples, validate on 10000 samples\n",
      "Epoch 1/20\n",
      "50000/50000 [==============================] - 9s 187us/step - loss: 2.0577 - acc: 0.2424 - val_loss: 1.8351 - val_acc: 0.3442\n",
      "Epoch 2/20\n",
      "50000/50000 [==============================] - 8s 153us/step - loss: 1.8826 - acc: 0.3170 - val_loss: 1.7712 - val_acc: 0.3543\n",
      "Epoch 3/20\n",
      "50000/50000 [==============================] - 8s 153us/step - loss: 1.8209 - acc: 0.3386 - val_loss: 1.7177 - val_acc: 0.3916\n",
      "Epoch 4/20\n",
      "50000/50000 [==============================] - 8s 152us/step - loss: 1.7687 - acc: 0.3632 - val_loss: 1.7118 - val_acc: 0.3967\n",
      "Epoch 5/20\n",
      "50000/50000 [==============================] - 8s 151us/step - loss: 1.7465 - acc: 0.3669 - val_loss: 1.6361 - val_acc: 0.4231\n",
      "Epoch 6/20\n",
      "50000/50000 [==============================] - 8s 152us/step - loss: 1.7196 - acc: 0.3779 - val_loss: 1.6170 - val_acc: 0.4262\n",
      "Epoch 7/20\n",
      "50000/50000 [==============================] - 8s 154us/step - loss: 1.6981 - acc: 0.3891 - val_loss: 1.5878 - val_acc: 0.4419\n",
      "Epoch 8/20\n",
      "50000/50000 [==============================] - 8s 152us/step - loss: 1.6863 - acc: 0.3921 - val_loss: 1.6328 - val_acc: 0.4132\n",
      "Epoch 9/20\n",
      "50000/50000 [==============================] - 8s 152us/step - loss: 1.6847 - acc: 0.3918 - val_loss: 1.5867 - val_acc: 0.4477\n",
      "Epoch 10/20\n",
      "50000/50000 [==============================] - 8s 151us/step - loss: 1.6673 - acc: 0.3992 - val_loss: 1.5842 - val_acc: 0.4406\n",
      "Epoch 11/20\n",
      "50000/50000 [==============================] - 8s 152us/step - loss: 1.6526 - acc: 0.4052 - val_loss: 1.5628 - val_acc: 0.4413\n",
      "Epoch 12/20\n",
      "50000/50000 [==============================] - 8s 158us/step - loss: 1.6469 - acc: 0.4078 - val_loss: 1.5735 - val_acc: 0.4544\n",
      "Epoch 13/20\n",
      "50000/50000 [==============================] - 8s 153us/step - loss: 1.6331 - acc: 0.4129 - val_loss: 1.5804 - val_acc: 0.4415\n",
      "Epoch 14/20\n",
      "50000/50000 [==============================] - 8s 153us/step - loss: 1.6330 - acc: 0.4106 - val_loss: 1.5662 - val_acc: 0.4569\n",
      "Epoch 15/20\n",
      "50000/50000 [==============================] - 8s 152us/step - loss: 1.6222 - acc: 0.4179 - val_loss: 1.5691 - val_acc: 0.4564\n",
      "Epoch 16/20\n",
      "50000/50000 [==============================] - 8s 152us/step - loss: 1.6208 - acc: 0.4148 - val_loss: 1.5511 - val_acc: 0.4481\n",
      "Epoch 17/20\n",
      "50000/50000 [==============================] - 8s 154us/step - loss: 1.6009 - acc: 0.4266 - val_loss: 1.5580 - val_acc: 0.4563\n",
      "Epoch 18/20\n",
      "50000/50000 [==============================] - 8s 153us/step - loss: 1.6004 - acc: 0.4271 - val_loss: 1.5484 - val_acc: 0.4522\n",
      "Epoch 19/20\n",
      "50000/50000 [==============================] - 8s 154us/step - loss: 1.5943 - acc: 0.4247 - val_loss: 1.5310 - val_acc: 0.4725\n",
      "Epoch 20/20\n",
      "50000/50000 [==============================] - 8s 154us/step - loss: 1.5872 - acc: 0.4282 - val_loss: 1.5111 - val_acc: 0.4707\n"
     ]
    }
   ],
   "source": [
    "\n",
    "model2 = build_mlp2(input_shape=x_train.shape[1:], drpratio=Dropout_EXP2)\n",
    "model2.summary()\n",
    "optimizer = keras.optimizers.Adam(lr=LEARNING_RATE)\n",
    "model2.compile(loss=\"categorical_crossentropy\", metrics=[\"accuracy\"], optimizer=optimizer)\n",
    "\n",
    "model2.fit(x_train, y_train, \n",
    "          epochs=EPOCHS, \n",
    "          batch_size=BATCH_SIZE, \n",
    "          validation_data=(x_test, y_test), \n",
    "          shuffle=True)\n",
    "\n",
    "# Collect results\n",
    "\n",
    "train_loss2 = model2.history.history[\"loss\"]\n",
    "valid_loss2 = model2.history.history[\"val_loss\"]\n",
    "train_acc2 = model2.history.history[\"acc\"]\n",
    "valid_acc2 = model2.history.history[\"val_acc\"]"
   ]
  },
  {
   "cell_type": "code",
   "execution_count": 114,
   "metadata": {},
   "outputs": [
    {
     "data": {
      "image/png": "[encoded data removed]",
      "text/plain": [
       "<Figure size 432x288 with 1 Axes>"
      ]
     },
     "metadata": {
      "needs_background": "light"
     },
     "output_type": "display_data"
    },
    {
     "data": {
      "image/png": "[encoded data removed]",
      "text/plain": [
       "<Figure size 432x288 with 1 Axes>"
      ]
     },
     "metadata": {
      "needs_background": "light"
     },
     "output_type": "display_data"
    }
   ],
   "source": [
    "import matplotlib.pyplot as plt2\n",
    "# %matplotlib inline\n",
    "plt2.plot(range(len(train_loss2)), train_loss2, label=\"train loss\")\n",
    "plt2.plot(range(len(valid_loss2)), valid_loss2, label=\"valid loss\")\n",
    "plt2.legend()\n",
    "plt2.title(\"Loss\")\n",
    "plt2.show()\n",
    "\n",
    "plt2.plot(range(len(train_acc2)), train_acc2, label=\"train accuracy\")\n",
    "plt2.plot(range(len(valid_acc2)), valid_acc2, label=\"valid accuracy\")\n",
    "plt2.legend()\n",
    "plt2.title(\"Accuracy\")\n",
    "plt2.show()"
   ]
  },
  {
   "cell_type": "code",
   "execution_count": null,
   "metadata": {},
   "outputs": [],
   "source": []
  }
 ],
 "metadata": {
  "kernelspec": {
   "display_name": "Python 3",
   "language": "python",
   "name": "python3"
  },
  "language_info": {
   "codemirror_mode": {
    "name": "ipython",
    "version": 3
   },
   "file_extension": ".py",
   "mimetype": "text/x-python",
   "name": "python",
   "nbconvert_exporter": "python",
   "pygments_lexer": "ipython3",
   "version": "3.7.3"
  }
 },
 "nbformat": 4,
 "nbformat_minor": 2
}
